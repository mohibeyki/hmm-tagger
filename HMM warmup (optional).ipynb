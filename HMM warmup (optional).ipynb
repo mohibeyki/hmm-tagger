{
 "cells": [
  {
   "cell_type": "markdown",
   "metadata": {},
   "source": [
    "# Intro to Hidden Markov Models (optional)\n",
    "---\n",
    "### Introduction\n",
    "\n",
    "In this notebook, you'll use the [Pomegranate](http://pomegranate.readthedocs.io/en/latest/index.html) library to build a simple Hidden Markov Model and explore the Pomegranate API.\n",
    "\n",
    "<div class=\"alert alert-block alert-info\">\n",
    "**Note:** You are not required to complete this notebook and it will not be submitted with your project, but it is designed to quickly introduce the relevant parts of the Pomegranate library that you will need to complete the part of speech tagger.\n",
    "</div>\n",
    "\n",
    "The notebook already contains some code to get you started. You only need to add some new functionality in the areas indicated; you will not need to modify the included code beyond what is requested. Sections that begin with **'IMPLEMENTATION'** in the header indicate that you need to fill in code in the block that follows. Instructions will be provided for each section, and the specifics of the implementation are marked in the code block with a 'TODO' statement. Please be sure to read the instructions carefully!\n",
    "\n",
    "<div class=\"alert alert-block alert-info\">\n",
    "**Note:** Code and Markdown cells can be executed using the `Shift + Enter` keyboard shortcut. Markdown cells can be edited by double-clicking the cell to enter edit mode.\n",
    "</div>\n",
    "<hr>"
   ]
  },
  {
   "cell_type": "markdown",
   "metadata": {},
   "source": [
    "<div class=\"alert alert-block alert-warning\">\n",
    "**Note:** Make sure you have selected a **Python 3** kernel in Workspaces or the hmm-tagger conda environment if you are running the Jupyter server on your own machine.\n",
    "</div>"
   ]
  },
  {
   "cell_type": "code",
   "execution_count": 1,
   "metadata": {
    "collapsed": true,
    "tags": []
   },
   "outputs": [],
   "source": [
    "# Jupyter \"magic methods\" -- only need to be run once per kernel restart\n",
    "%load_ext autoreload\n",
    "%aimport helpers\n",
    "%autoreload 1"
   ]
  },
  {
   "cell_type": "code",
   "execution_count": 2,
   "metadata": {
    "collapsed": true
   },
   "outputs": [],
   "source": [
    "# import python modules -- this cell needs to be run again if you make changes to any of the files\n",
    "import matplotlib.pyplot as plt\n",
    "import numpy as np\n",
    "\n",
    "from helpers import show_model\n",
    "from pomegranate import State, HiddenMarkovModel, DiscreteDistribution"
   ]
  },
  {
   "cell_type": "markdown",
   "metadata": {},
   "source": [
    "## Build a Simple HMM\n",
    "---\n",
    "You will start by building a simple HMM network based on an example from the textbook [Artificial Intelligence: A Modern Approach](http://aima.cs.berkeley.edu/).\n",
    "\n",
    "> You are the security guard stationed at a secret under-ground installation. Each day, you try to guess whether it’s raining today, but your only access to the outside world occurs each morning when you see the director coming in with, or without, an umbrella.\n",
    "\n",
    "A simplified diagram of the required network topology is shown below.\n",
    "\n",
    "![](_example.png)\n",
    "\n",
    "### Describing the Network\n",
    "\n",
    "<div class=\"alert alert-block alert-warning\">\n",
    "$\\lambda = (A, B)$ specifies a Hidden Markov Model in terms of an emission probability distribution $A$ and a state transition probability distribution $B$.\n",
    "</div>\n",
    "\n",
    "HMM networks are parameterized by two distributions: the emission probabilties giving the conditional probability of observing evidence values for each hidden state, and the transition probabilities giving the conditional probability of moving between states during the sequence. Additionally, you can specify an initial distribution describing the probability of a sequence starting in each state.\n",
    "\n",
    "<div class=\"alert alert-block alert-warning\">\n",
    "At each time $t$, $X_t$ represents the hidden state, and $Y_t$ represents an observation at that time.\n",
    "</div>\n",
    "\n",
    "In this problem, $t$ corresponds to each day of the week and the hidden state represent the weather outside (whether it is Rainy or Sunny) and observations record whether the security guard sees the director carrying an umbrella or not.\n",
    "\n",
    "For example, during some particular week the guard may observe an umbrella ['yes', 'no', 'yes', 'no', 'yes'] on Monday-Friday, while the weather outside is ['Rainy', 'Sunny', 'Sunny', 'Sunny', 'Rainy']. In that case, $t=Wednesday$, $Y_{Wednesday}=yes$, and $X_{Wednesday}=Sunny$. (It might be surprising that the guard would observe an umbrella on a sunny day, but it is possible under this type of model.)\n",
    "\n",
    "### Initializing an HMM Network with Pomegranate\n",
    "The Pomegranate library supports [two initialization methods](http://pomegranate.readthedocs.io/en/latest/HiddenMarkovModel.html#initialization). You can either explicitly provide the three distributions, or you can build the network line-by-line. We'll use the line-by-line method for the example network, but you're free to use either method for the part of speech tagger."
   ]
  },
  {
   "cell_type": "code",
   "execution_count": 3,
   "metadata": {
    "collapsed": true
   },
   "outputs": [],
   "source": [
    "# create the HMM model\n",
    "model = HiddenMarkovModel(name=\"Example Model\")"
   ]
  },
  {
   "cell_type": "markdown",
   "metadata": {},
   "source": [
    "### **IMPLEMENTATION**: Add the Hidden States\n",
    "When the HMM model is specified line-by-line, the object starts as an empty container. The first step is to name each state and attach an emission distribution.\n",
    "\n",
    "#### Observation Emission Probabilities: $P(Y_t | X_t)$\n",
    "We need to assume that we have some prior knowledge (possibly from a data set) about the director's behavior to estimate the emission probabilities for each hidden state. In real problems you can often estimate the emission probabilities empirically, which is what we'll do for the part of speech tagger. Our imaginary data will produce the conditional probability table below. (Note that the rows sum to 1.0)\n",
    "\n",
    "| |  $yes$  | $no$ |\n",
    "| --- | --- | --- |\n",
    "| $Sunny$ |   0.10  | 0.90 |\n",
    "| $Rainy$ | 0.80 | 0.20 |"
   ]
  },
  {
   "cell_type": "code",
   "execution_count": 4,
   "metadata": {
    "tags": []
   },
   "outputs": [
    {
     "output_type": "stream",
     "name": "stdout",
     "text": "Looks good so far!\n"
    }
   ],
   "source": [
    "# create the HMM model\n",
    "model = HiddenMarkovModel(name=\"Example Model\")\n",
    "\n",
    "# emission probability distributions, P(umbrella | weather)\n",
    "sunny_emissions = DiscreteDistribution({\"yes\": 0.1, \"no\": 0.9})\n",
    "sunny_state = State(sunny_emissions, name=\"Sunny\")\n",
    "\n",
    "# TODO: create a discrete distribution for the rainy emissions from the probability table\n",
    "# above & use that distribution to create a state named Rainy\n",
    "rainy_emissions = DiscreteDistribution({\"yes\": 0.8, \"no\": 0.2})\n",
    "rainy_state = State(rainy_emissions, name=\"Rainy\")\n",
    "\n",
    "# add the states to the model\n",
    "model.add_states(sunny_state, rainy_state)\n",
    "\n",
    "assert rainy_emissions.probability(\"yes\") == 0.8, \"The director brings his umbrella with probability 0.8 on rainy days\"\n",
    "print(\"Looks good so far!\")"
   ]
  },
  {
   "cell_type": "markdown",
   "metadata": {},
   "source": [
    "### **IMPLEMENTATION:** Adding Transitions\n",
    "Once the states are added to the model, we can build up the desired topology of individual state transitions.\n",
    "\n",
    "#### Initial Probability $P(X_0)$:\n",
    "We will assume that we don't know anything useful about the likelihood of a sequence starting in either state. If the sequences start each week on Monday and end each week on Friday (so each week is a new sequence), then this assumption means that it's equally likely that the weather on a Monday may be Rainy or Sunny. We can assign equal probability to each starting state by setting $P(X_0=Rainy) = 0.5$ and $P(X_0=Sunny)=0.5$:\n",
    "\n",
    "| $Sunny$ | $Rainy$ |\n",
    "| --- | ---\n",
    "| 0.5 | 0.5 |\n",
    "\n",
    "#### State transition probabilities $P(X_{t} | X_{t-1})$\n",
    "Finally, we will assume for this example that we can estimate transition probabilities from something like historical weather data for the area. In real problems you can often use the structure of the problem (like a language grammar) to impose restrictions on the transition probabilities, then re-estimate the parameters with the same training data used to estimate the emission probabilities. Under this assumption, we get the conditional probability table below. (Note that the rows sum to 1.0)\n",
    "\n",
    "| | $Sunny$ | $Rainy$ |\n",
    "| --- | --- | --- |\n",
    "|$Sunny$| 0.80 | 0.20 |\n",
    "|$Rainy$| 0.40 | 0.60 |"
   ]
  },
  {
   "cell_type": "code",
   "execution_count": 5,
   "metadata": {
    "tags": []
   },
   "outputs": [
    {
     "output_type": "stream",
     "name": "stdout",
     "text": "Great! You've finished the model.\n"
    }
   ],
   "source": [
    "# create edges for each possible state transition in the model\n",
    "# equal probability of a sequence starting on either a rainy or sunny day\n",
    "model.add_transition(model.start, sunny_state, 0.5)\n",
    "model.add_transition(model.start, rainy_state, 0.5)\n",
    "\n",
    "# add sunny day transitions (we already know estimates of these probabilities\n",
    "# from the problem statement)\n",
    "model.add_transition(sunny_state, sunny_state, 0.8)  # 80% sunny->sunny\n",
    "model.add_transition(sunny_state, rainy_state, 0.2)  # 20% sunny->rainy\n",
    "\n",
    "# TODO: add rainy day transitions using the probabilities specified in the transition table\n",
    "model.add_transition(rainy_state, sunny_state, 0.4)  # 40% rainy->sunny\n",
    "model.add_transition(rainy_state, rainy_state, 0.6)  # 60% rainy->rainy\n",
    "\n",
    "# finally, call the .bake() method to finalize the model\n",
    "model.bake()\n",
    "\n",
    "assert model.edge_count() == 6, \"There should be two edges from model.start, two from Rainy, and two from Sunny\"\n",
    "assert model.node_count() == 4, \"The states should include model.start, model.end, Rainy, and Sunny\"\n",
    "print(\"Great! You've finished the model.\")"
   ]
  },
  {
   "cell_type": "markdown",
   "metadata": {},
   "source": [
    "## Visualize the Network\n",
    "---\n",
    "We have provided a helper function called `show_model()` that generates a PNG image from a Pomegranate HMM network. You can specify an optional filename to save the file to disk. Setting the \"show_ends\" argument True will add the model start & end states that are included in every Pomegranate network."
   ]
  },
  {
   "cell_type": "code",
   "execution_count": 7,
   "metadata": {},
   "outputs": [
    {
     "output_type": "display_data",
     "data": {
      "text/plain": "<Figure size 360x360 with 1 Axes>",
      "image/svg+xml": "<?xml version=\"1.0\" encoding=\"utf-8\" standalone=\"no\"?>\n<!DOCTYPE svg PUBLIC \"-//W3C//DTD SVG 1.1//EN\"\n  \"http://www.w3.org/Graphics/SVG/1.1/DTD/svg11.dtd\">\n<!-- Created with matplotlib (https://matplotlib.org/) -->\n<svg height=\"101.784906pt\" version=\"1.1\" viewBox=\"0 0 293.4 101.784906\" width=\"293.4pt\" xmlns=\"http://www.w3.org/2000/svg\" xmlns:xlink=\"http://www.w3.org/1999/xlink\">\n <defs>\n  <style type=\"text/css\">\n*{stroke-linecap:butt;stroke-linejoin:round;}\n  </style>\n </defs>\n <g id=\"figure_1\">\n  <g id=\"patch_1\">\n   <path d=\"M 0 101.784906 \nL 293.4 101.784906 \nL 293.4 0 \nL 0 0 \nz\n\" style=\"fill:none;\"/>\n  </g>\n  <g id=\"axes_1\">\n   <g clip-path=\"url(#pdb5580c372)\">\n    <image height=\"88\" id=\"image7ee8038732\" transform=\"scale(1 -1)translate(0 -88)\" width=\"279\" x=\"7.2\" xlink:href=\"data:image/png;base64,\niVBORw0KGgoAAAANSUhEUgAAARcAAABYCAYAAADfqrPZAAAABHNCSVQICAgIfAhkiAAAIABJREFUeJztnXdUVHfax7/DzNAGBobe24BKVVEURENQ7N3YEhONMWqMxmzO5iTupmzy7q6bd3ezMdkklmiMmoQEjbEXRFBsgIoISu9tGOoM09v9vX+Ye18QVFSGETOfc+4B5t659+F3n/vcX3kKixCSAjNmzJjpPwiAThYhxGBqScyYMfNUQQC0cABYmFoSM2bMPFUQABZmw2LGjBmjYDYuZsyYMQocUwvwqMjlcrS1taGlpQUtLS1obW2FRCKBTCaDXC6HTCaDTCaDQqGAXq+HSqUCAOh0OqjVahBCYGVlBUtLS7BYLFhaWoLL5cLGxgY8Hg/29vaws7ODvb09+Hw+nJ2d4erqCldXV7i5ucHJycnELWDGlKjVarS3t0MsFkMsFqOlpQUdHR3o7OxkNrlcDrVaDZVKBYPBAIqioFAoQAiBpaUlrKyswGKxYGNjAy6Xy+gdvTk4OEAgEMDd3R0eHh5wd3cfVHrHIoQQUwvRG4QQUBSFxsZG1NXVob6+HvX19WhoaIBIJEJnZydUKlU3Q2Ftbc0YDPqnpaUlLCwswOVyAQAsFov53WAwwGAwdPtdr9dDq9VCo9EwPzUaDdRqNXQ6HaysrGBjYwN7e3u4u7vD19cXPj4+zObt7c0ojZnBj1qtRk1NDWpra1FTU8PoYltbGxQKBVQqFSiKgqWlJWxtbWFtbc3on5WVFdhsNvMCAwBLS0sA3XVPr9fDYDBAq9X20DmVSgWtVgsrKyvY2trC3t4eXl5e8PPzg7+/PwICAuDv7w8nJydYPDmzHARAyxNjXAwGAyQSCaqqqlBdXY2qqipUVVWhubkZUqkUbDYbNjY2zGZnZwdHR0c4OjrCwcEBPB6vT8bFwsICHA6HuWZvxoU2LF1vtFKphEwmQ0dHB/OGUiqVUKlUUCqV0Ol0sLe3h7OzM3x9fbvdeA8PD9jY2Jisbc30DYqi0NnZiYqKCpSVlaG8vByVlZVobW2FSqViXiy2trbg8XgQCARwcnKCo6MjeDwebG1tGaNC6x+Hw+mTcdHr9dDpdIy+abVaqNVqRu/a29vR3t4OiUTSTe9YLBYEAgF8fHwgFAoRFBSEoKAgeHt7w9ra2lQvOdMaF4PBAKlUipqaGlRWVqKqqgo1NTVoamqCTqdjjAA9DHFxcYGzszOcnZ3h5OQEPp/PDFnoN4QxIYRAr9dDJpMx3d729na0trZ225qbm6HRaGAwGGBhYQGBQABvb28EBAQgMDAQgYGB8PLyYpTMjOkghECtVqOhoQFlZWUoKytDRUUFGhsbodPpmF6Hl5cX3Nzc4OrqChcXF7i4uEAgEIDP58PBwQE2NjZG0z9a7+RyOaRSKSQSSbfpALFYjKamJkgkEhgMBhBCIBAI4OvrC6FQyGyurq7MS3UAGHjjotPpIBaLGWNSVVWF2tpaSCQSaLVa5kb6+PjAz88PAQEB8PX1hbu7O7hc7hM91NDr9WhtbUVDQwPq6upQW1uL+vp6iEQiSKVSEEJgZ2cHd3d3CIVCBAQEQCgUIjAw0NyrGWDkcjnq6+tRXl6O8vJyVFRUQCQSQaVSgcvlMi+DoKAgBAYGws/PD05OTmCxWE+cDiqVSjQ0NKC6uprZ6uvr0d7eDhaLBT6fDx8fHwQHB0MoFCI4OBheXl7GfhkPjHGhKApNTU2or69HdXU1CgsLUVZWBrFYDEIIPDw8EBISgvDwcISGhiIoKAi2trbGFGnA0Ol0aGpqQmlpKQoLC1FSUoLq6mrI5XLw+Xz4+/tjxIgREAqF8PPzg5+fH9hs9hOnwE8D9L2oqalBaWkpbt26hfLycnR2dsLBwQHBwcGIiorC8OHDMXTo0EFr8CmKgkgkQnFxMfLz81FYWIi6ujpotVq4ublh6NChGDFiBNOTdnR0NIYYxjUuKpUKIpEIdXV1uHLlCvLy8lBTUwMOh4MhQ4YgJiYGMTExGDJkCOzt7Y0hwhOHVquFWCxGXl4esrKycO3aNTQ3N8PDwwORkZGYOHEiAgMD4e3tDR6PZzYy/YBSqURTUxMqKiq6tTmfz8eIESMwfvx4REdHw9vb29SiGgWVSoWqqirk5OTgypUruH37NgwGA4YMGYIJEyYgOjoaPj4+cHV1BYD+0rn+Ny70GFYsFqOoqAgnTpzApUuXoNPpMHLkSDz77LOYMGEC/P39f/dzDhRFQSaT4fLlyzhz5gzOnTsHhUKB2NhYzJo1C8OHD4eHhwfs7OyepFWAQYNarUZzczNu3bqFkydP4vLly2CxWBg9ejSmTJmC2NhYeHl5mVrMAUWj0aC6uhppaWlITU1FUVER/P39MWPGDEyePBne3t5MT+YxjUz/GRdCCLRaLaRSKa5fv44dO3YgOzsbXl5emDdvHhYuXIigoKDfvUG5F4QQtLe348CBA0hOTkZxcTHCw8Px8ssvY8KECXB1dYWNjY3ZyPQBvV4PiUSCW7duYfv27bhy5Qo8PT0xZ84czJ8/H0KhkFk5/D2jVqtx+fJl7Nu3D2fPnoWjoyPWrFmDefPmwcnJCTY2No9jYAiAFpDHgKIoYjAYSGdnJ8nIyCBz5swh9vb2ZMKECWT//v1EoVAQiqIe5xK/K+j2PHv2LJk3bx5xdnYm48ePJ7t37ya1tbVEo9GY27MXKIoiFEURtVpNbt++TVauXEmcnZ3J2LFjyb59+0hbW5u53e6BwWAgpaWlZO3atUQgEJCYmBiSkpJC2tvbiV6vf9R2owgh4kc2LhRFEY1GQyorK8natWuJtbU1iYmJIQcOHHgcocx0ITs7m6xcuZK4uLiQ2NhYkpKSQtra2ojBYBi07UtRFNHr9USn0zFG4XHPZzAYiEqlIt988w1xdXUlQqGQfPXVV6Szs3PQttNAQ1EUKSwsJC+++CKxtrYms2fPJgUFBUStVj9KGz6acaEVorW1lXz66afE1dWV+Pn5kX379vWLspjpyfnz58m0adOIq6srWbp0Kbl06dKgNeBarZYcOXKEbNmyhbS0tDCG8lF0hzZURUVF5JlnniFcLpe8++67ZqPymBw/fpwMGTKEuLu7ky1btpDm5uaHvT+PZly0Wi3JyckhU6ZMIQ4ODuTdd98lEonkYU9j5iFRq9UkOTmZxMbGkpCQEPLPf/6TdHR0DLqHSK1Wk08++YQAIBwOhyxevJicPn2aGfI9zP+jVqvJr7/+SpycnEhUVBS5evXqoGuPJxWpVErefvttIhAIyJIlS0h+fj4xGAx9/frDG5eWlhaydetWEhAQQGJiYkhmZqa5tzJA0O1cXV1N3nnnHeLv70+ee+45cuPGDVOL9lCo1Wry0UcfES6XyxgYFotFvL29yZ///Gdy+/ZtotFoHnie9vZ28sEHHxBra2uyYsUKIpfLzbrYj9DDzSNHjpCoqCgyatQocvDgQaJSqfr0dfIwxqW6upq89957JDAwkKxbt440NjY+jCUz009QFEXkcjn5+eefSXx8PImNjSVpaWmmFqvPqFQqsmnTJmJpaUl+W1VgNisrK2JtbU3i4uLIli1bSFVVFdHr9T3O0dDQQDZu3EicnJzIli1biFarNRsVI6HX68mtW7fIvHnzSFRUFNm5cydRKpUP+lrfjUthYSFZt24diYiIIH/729+IVCo1GxYTQk+mnz9/nsydO5dERESQAwcOmFqsPqFSqcibb77Zq3GhNy6XS3g8HnFzcyOzZs0ie/fuJY2NjYQQQiorK8kbb7xBfH19ya5du/r6JjXzGOj1elJRUUFWrlxJRo4cSb744guiUCju9xWKECJ+oJ9LdXU1Pv30U1y/fh3PP/88XnrpJTg4OJi9R00M+c23KD8/H19++SWuXLmCV155BQaDAXK5HAAglUoB3ImlMRgMUKlU0Ol0oCgKSqUSer2eOR+d54aiqG7nV6vVfZaJjgTu6o/D5XK7hXMQQtDR0YGysjLodLoHnpOOQPby8kJUVBQA4OrVq3jrrbewbNky8Hi8Pstn5tExGAyoqKjA559/jvz8fLz88st45ZVX7mUHHuxEJ5VK8e9//xsZGRmYPXs2Xn31VSaAy0x35syZA41GAw6HAx6Ph02bNiEqKsrokagajQZ5eXn461//ivz8fPj4+EAgEAAA4whlbW0NNpvdLfzfysqqm2xsNhtcLrdbQBubzYaVlVWfZdFqtd0MFvktoler1TKf6fV6XLx4ETdu3Oh27IPgcDhMIq/o6Gjs2LHjqXXZfxAGgwHvv/8+MjMz4eXlhba2NmzZsgVhYWFG1Te9Xo/8/Hx89dVXaGxsxNtvv41Jkyb1diiToPue/Pzzz7h06RISExOxZMkSs2G5DywWC2vXroW7uzt27tyJ1NRUODk5ISAgwKjXtbKyQmRkJN588028/fbb0Ol0+PjjjxljAtx5MFksFiwsLJheBZvN7tbDoPd3vb9dj+8LFEUxPZ97faZWq1FRUYFr167d91wWFhYghIDL5SIoKAg8Hg9tbW0YOXIkPvzwQ7i7u/dZrqcRFouFRYsWIS4uDvv378dXX32FTz75hHmxGAMOh4OwsDDMnTsX3377Lb7//ntERETc817c07gUFRXh2LFjCAgIwOzZs+Hr62s2LPfhz3/+MyIiImBrawuZTIadO3ciOjoavr6+Rs81Y2Njg5iYGKxbtw6bN29GW1sbpk6datRrPipKpRLAnV7N3bDZbBgMBjg4OCAiIgKjRo1CREQEuFwuzpw5g7q6OqxatQpRUVG/61AICwsLvPjii3B2doabmxscHBzwwgsvoLi4GKNGjTJqmI21tTXi4+NRVVWFgwcP4sSJE1i5cmWvx/ZqXAghOHjwIORyORYtWoSwsDCjPiDkt5SWdCImg8HAZHUD7h1EpVarIZVKYTAYmKRRdBIn4I6l9fPzQ1NTE6PUNEFBQcyxXd+sAoEAFhYWkMlk3brzlpaW8PHxYTLRdcXX1xdjxoxh5IyNjcX27dtx8+ZNREREGD1AjsViwd7eHtOmTcPhw4fx9ddfIyEhAdbW1ka97qNACGHyGdPtRQiBj48Phg8fjvDwcAQGBjIpAby9vZGeng6FQoHRo0cjPj6+3w2LWq1GXV1dj8/d3NzA5/O76V9jYyOUSiUIIUw2OisrKygUCiZvj4ODA2xtbSEWixm9owMCJRJJt2s4OzuDxWJBKpV2m4Pi8XhwdHSERqNBa2sr8zmLxYKzszPCwsKYz0JCQuDn54fTp08jJCQELi4u/dMw98DJyQnx8fHIy8vD8ePHMWPGjF57L70aF5FIhPT0dERFRSEmJgZ2dnZGEVImk6GiogJFRUWora2FWq0Gi8Vixu5ubm4YO3Ys4uLieiTquXHjBjIzMyESiWBlZQVXV1f4+PhApVIhIyMDjo6O8PT0xNq1a5Geno7i4mKIRCLw+XwIBAK8++67KCwsxIULF1BdXc2kC0xKSoKlpSVyc3NRXV0NhUIBe3t7BAUFYeXKlcjLy8OFCxdQV1cHW1tbuLq6YtWqVfDy8mLk02q1UKlUSEtLw+jRo+Hp6Wn0Xh+bzYaHhweWL1+O9evX4/bt2xg1apRRr/moaDQaWFhYIDAwEMOGDUNISAiCg4MRFhaGoUOHwtXVlQkulMlkuHHjBrRaLZKSkoySf6SjowPff/89ZDIZpFIpBAIB7O3tMXPmzG5t2N7ejm3btqG1tRWOjo4YPnw4AgIC0NDQgPz8fCiVStjZ2YHP58PR0ZHJYeTn54fY2FhQFIWcnBzU1dWBzWbDzc0NSUlJ4HA4uHHjBkpKSqDRaGBvb4/o6GjExcVBLBbj2LFjaG1tBUVR8PPzw6RJkxAXF8fIRVEUNBoNDh06hPnz58PR0dGocy8sFgvBwcEYN24cdu7ciatXr2LWrFk9juv1FZCTkwOJRIKxY8fCz8/PaELW1NRg7969+Prrr5GVlYXOzk5mYlEikeDgwYP4z3/+g5ycnG69C4lEgu+//x7ffvstKioqQFEU2tvbkZOTg+TkZPzyyy+or69nEv7Qb5bdu3fj5s2bzEQnl8uFlZUVDh8+jFOnTkEmk4HL5TKKffv2bfzyyy+orKxk8pHSeVF3796NjIwM2Nra9niTXrp0CdXV1bh+/ToKCgrQ2dlptDbsiqWlJRITE+Hs7IwTJ04MyDUfFjabjVGjRmHlypXYsGED3nnnHfzlL3/B66+/jsTERHh5eXWLWq6urkZlZSW8vLwwevRoo8hEp1S9ffs29uzZg/LycvB4vB4PaEZGBnbt2oVr164xKSXT09Px+eef49SpU1CpVLCwsEBnZycKCgqwd+9e7Nu3DzY2Nkw+Z1tbWyQnJ+P48eNMbme66kROTg4OHjyIqqoqWFtbM3LpdDocPXoUv/zyC2xtbXtEdRcVFSEvLw8lJSXIysqCTCYzSjt1xdHREWFhYXB2dsb58+d7P6i3Req3336bTJ8+nVy+fLk/lsnvycmTJ0lsbCyZMmUKycrKYnxnKIoiSqWS7Nq1i9jY2JDFixcTlUrFOEpdvXqVREVFkWnTppELFy4wjmUpKSlkxIgRJCgoiPzwww/MdQwGA7l27RoBQN55551ujllqtZpERkaS+Pj4bv+vWCwmH3/8MRMER0NRFGlvbycAyNy5c3s4bymVSrJixQri4+NDQkNDyfr160l2drZR2q83FAoFWblyJRk/fvyAXfNh0Ov1pLCwkCiVyj45vh04cIDMnTuXbN682aiOch0dHeTjjz8mVlZW5PPPP++xXyKRkFmzZhGBQED+85//ELFYTOrr68lLL71EPD09yUcffUTkcjkhhBCNRkOys7NJYGAgsbOzIzqdrtu53NzcyOjRo4lYLO72+erVq0lISAjZunVrt8+Li4vJyJEjiVAo7CEXRVFk06ZNxNbWlowfP57Mnz+f3L59e0D80EpLS8nGjRvJxIkT7/aqpggh4l57LkVFRQgKCjJ6jRQulwuhUIj58+dj7NixTA+AruWycuVKeHp64tixY1AoFMz3qquroVKpmPkMFosFHo+H0NBQjBw50qgyP4ji4mJkZWUhMDAQK1euhFqtxo0bN6DRaAbk+hwOB3Fxcbh58yb0en2vE6emhM1mIzQ0tM/5QhoaGsDhcODv72/SBYXMzExcvnwZISEhSEpKgouLC7RaLSwsLGBnZwcWi4WOjg60t7dDpVLB0dERgYGBRpeLzgPk5uaG999/HyKRCKWlpcy8ljERCAQQCoUQiUQ95iGBXoZFFEUxY0pj5xF1c3PDs88+i9jY2B77yG8TfzweDyqViikmBYApdMbj8brNjNvZ2cHNzc2oMt8PiqLw008/oaOjA7Nnz8aSJUvg7OyM0tJS1NbWDogMLBYL3t7eUCgUAzYcMyadnZ1gsVjGyvXaJ+RyOb766ivodDq88sor8PHxgYWFBXx9fREfHw8nJyekp6fj22+/xYkTJ5Camorz58+jra3N6LIdP34cNTU1WLhwIWJjYxEXF4dLly6hvr7e6C8WGxsbuLq6Qq/Xo7m5ucf+HrM+Wq0WcrkcdnZ2Rs8cFxkZicjISOZv8tuqkUajgUqlwoULF1BYWAgnJ6duPjZ0o909yUvP19yP3vww7ncTCCE99t/r+NbWVhw9ehQCgQDPPPMMfH19kZCQwKT7FAqFRl9CtbCwgIuLCwghaGlpMarfw0BA91gHMmk7XbsKuOO5fOjQIVy+fBnDhw/H9OnTGUPH4XCwfPlyjBkzBhcvXkRhYSGKi4uZgmYikeihKwb0pm/053f/rdfr8c0338DS0hIvvfQSeDweli5dig8++ACVlZUICgoyatY9S0tL8Pl86PX6XnsuPYwLXbmQdhU3NnRj0gWhRCIRzp07h8OHDyM1NRUcDgcbNmzoVljqcRCLxcx1WSwWFAoFUzGvt+V2jUaD9vZ25nhCCONe39V7lRCClJQUiMVirFu3Dj4+PmCxWIiPj8eFCxeQm5uLWbNmGX2ZkBACqVTKrH4Ndujl9IcJQ3gcKIpCWVkZzp07B4PBgOLiYvztb3+Dt7c3/vGPf8Dd3b2bHnZ0dDAPNe06QQhBY2Mjnn/+eVRVVT2UGwddipiiKMaR0GAwQKlU9vCWzs3NxaVLl7Bo0SIIhUJwOByMGTMGPj4+yM3NxbBhw4w6NNPpdFAoFGCz2b0m2e9hXFgsFtzc3CCVSo1+Q+mGq6mpwY8//ogDBw6goKCA8Rb19PTEH//4R7zxxhvMG/9ePY37Wfyu+86dOwelUglbW1uwWCyUl5dDo9HA3d2deTt2Pb6trQ3Xr1+HRqOBpaUl9Ho9iouLwWKxGO9b2jju3r0bbDYbc+bMgYeHBwCAz+cjJiYG6enpOHv2LBYvXmzUuQOKotDQ0MAszw92HBwcAGDAhnh6vR5nz55FWVkZgDsPO4vFQmRkJDo7O6HT6bq96LKyspCWloYxY8Zg2bJlYLFY0Ov1TEmZxMREAP/f87hXT5j+rKOjgynM5uXlxRQPbGlpwZgxY5jjKIrCf//7XwDA66+/DisrK2bfwoULsWfPHiYBt7HqLanVarS2toLL5fbdz0UoFKKysrLbG9sYaDQanDp1Cm+99Raqq6vB5XIxcuRITJs2DVOmTMH48eN7uKTn5OSgpKSkh+Frbm5mypd0xWAwIDc3Fzdu3AAAhIeHY9myZVi6dCnYbDa++uoriMViTJs2jVl2p/0WqqurYW9vD61Wi9WrV2P27NlQqVT497//DS6Xi+XLlwMAKioqcPToUZSUlCA+Ph41NTUICQmBQCBAW1sbbG1t0dHRgZ9//hnDhg3D8OHDjdKedFc5OzsbYWFh971vvRniJ9ED28PDA1qtFtXV1UbVRRpLS0ts2LABGzduZD5rbW3FkiVLsGDBAvzzn//EsmXLmF4Kj8dDaWkpLl68iMbGRgwbNgxlZWXYs2cP7Ozs8Je//IU5T3l5Oerr63uMCOg66I2NjXBzc0NBQQE++eQTxMbGQqlUIiUlBWw2G88//zwAoKWlBVevXsX+/fvh7+8PjUbD+OfIZDI4ODhAJBLh2LFjcHR0RHh4OGOk+5OOjg6Ul5dDIBD0OtfZq3GZMmUKNm3ahKqqKowYMeKhgtcehry8PHzzzTdobW3FnDlz8D//8z9M5CvN3cr0xRdfoLGxESEhIfD392dkKygowE8//YTGxkaMGTOG+Wc1Gg22bduGyspKJCQkYN68eYiPj8f27dtRWVkJoVCI9957D+PGjWOcBXNycvDjjz+itbUVSUlJmD17Nnx8fLB37140NDQgPj4e3333HfMAp6am4tixYxg1ahQ0Gg22bt3KGJfi4mIcO3YMDQ0NAIDk5GSjGRfgztvkyJEj2LBhw32Pk8vlyM7OxsmTJyGXyzFnzhzMnDnTaHI9KpGRkTh69CiKiorQ3t7OPNQDibOzM9577z0sWrQIn3/+ORISEhg5kpKSEB4ejszMTJw/fx6XL19mVjqXLVvW7Y1++vRpHDhwAFFRURg2bBgzp5mdnY0DBw5ALpcjLi4OCxYsgLu7O/bv34+6ujoMGTIEb731FmbMmAGKolBUVIR//etfzELI5s2b8b//+7+Ijo5GfX09duzYAQAoLCzEyZMn4eDgYBTjIhKJUFhYiGeeeab3oV9v69cymYwkJCSQ1atXk1u3bj3qMvgD+fXXX4m/vz+JiYkhDQ0NPfwYKIoit2/fJvX19cy6vV6vZ7auiaoNBkOPffQ5evvOvc5zr3Pd/Z37Hd91/93f6y35UX+hVCrJ7t27ibW1NSkrK+uxv6mpiezbt48sWrSIuLm5ES6XS9hsNklISCBHjx41mlyPg1arJX/9619JYmIi+fXXX412nQf5udTW1hI3NzfCZrPJpUuXuvmR0Fnb7qdTvR1zP93tTUfp8/SmU13zEN9Pjv5CKpWS7du3k8jISHL69Om7d9/bz4XH42Hx4sW4fv06Ll++bLQ1c71eD71ez7jq99blXbVqFQ4fPgyDwQDgzooQvXUdMllYWPTYB9zp+fT2nXud517nuvs79zu+6/67v2fMguXt7e349NNPsXTpUgQFBYEQgtraWmzduhWzZs1CaGgo1qxZg8OHD6OlpYXpnt+dauFJgvbb4fP5OHTo0IB4n/aGTCYDIYS5113vPz1HeD+d6npMYWFht2F9X/Stqz73plP05w/S7f6CjisKDw9HQkJCr8f0alxYLBaWLl2KkJAQHDlyBJcuXep34YA7fi4hISFobW1FUVFRt32EEGRnZyM3N3dAVq0GO+3t7fj666/R2tqKhQsX4ssvv8TUqVMxatQovPfee0hLS0NHRwdUKhW0Wm235XwOh2P0vDOPCovFwtixY5GQkICioiLs37/fJHJkZGRAo9Fg1KhR4PP5j3yeU6dOISkpCe+88w6TzGuw0dTUhIyMDDQ3N2P58uX3dFm5p0Y5OjrilVdewb/+9S98//33cHJyQnR0dL8KGRUVhRUrVuCTTz7B+vXr8fzzzyM4OBgajQa3bt3Crl27QAgx55G5D4QQiMVi7Nq1C9u2bQMArF27FgaDAR0dHQ/0DCa/rdipVKpelZ3NZvcpcFWj0UCr1fbqR6TVahk5KIpilvKBO3M/9DFqtZoxfkqlEjqdDiqVCiqVCpWVlVAoFNi7dy8iIyMRExPzQJn6ikKhwLVr19DQ0ACKolBTU4Ps7GxmX25uLr788kuw2Wy88cYb8Pb2fmR9FAqFiI6ORmxs7KCsQKpWq3H06FGkpqZiwoQJSEhIuGdb3DcTnVwux08//YTk5GRERERg48aNEAqF/SYoRVHo6OhAbm4uMjMzIRaLoVKpwOFw4OjoCG9vb8TExCA8PJwJTTfTnfb2dhw5cgQffvghxGIxDAZDt1SVD8LCwgJ8Ph+urq69+irQ3ewH0VuiqHvto4e49O/kt6VYiqKYXhSdKY8O+KOj5VUqFQIDA/HZZ5/1WyqLqqoq/OlPf0JHRwdaW1vh5ubGhL5QFAWDwQBHR0fMmjUL8fHxTFqOR0G0xSOYAAAXG0lEQVSj0aC2thbOzs5wdHQcVHlpKIrC4cOHsWPHDri7u+NPf/oThgwZ0ttzSQA0PzCHrlgsxp49e3Dy5EkMHz4ca9euRWhoaL8JTLoUr5dIJEw4vq2tLZydneHi4tJjjGvmDhKJBKdPn8aXX34JOzs7vPrqqygoKEBqairz5r3XA0/DYrEQFhaG8ePHw9fXt9s+8tvSdl/ionpLnUl/ThsL+m/axwi44yR3t0Gh5yC6zkXQD2FBQQF27NiBmJgYfPTRR/2SkU4ul6OgoOCe/xebzYaDgwO8vb1/tzW7KYrCiRMnsGPHDlhbW2PNmjVISEi4lwdw3wrRE0JQXV2N/fv348yZMwgODsbq1av7fYhk5uEQi8U4ceIEUlJSYG9vjw0bNiA2NhbNzc0oLS3FrVu3kJOTg4yMDDQ2NsLCwqJXQ8NisTBz5ky8/vrrvS6RGwyGbj2N+0EbhrvPTxsJ+m8ul8sYF/o7dHqB+71EKIpCU1MT9u/fj3379mHChAl49913GYdFM8ZBr9fj1KlT2LVrF7hcLl544QVMmjSp157ubzw4hy4AxhN10aJF4HK5OHXqFLZs2YIlS5YgKSnJaD4wZnqHoigUFxfjyJEjyMzMhIuLC1atWoX4+Hiw2Wz4+PjA29sbY8aMwbhx45CYmIj8/HzcvHkT169fZ2J1SBePUVtbW7i7uxs9Y97jYmFhAQ8PDyxcuBBqtRo///wzWCwW1qxZg2HDhplavKcSmUyG48eP48cff4SVlRUWL16MZ5999n6GhYH90UcfffSgg+g4FT8/P3A4HOTn5+Pq1augKAru7u59upCZx6ezsxNXrlxBcnIyrl69iqFDh2L58uUYP358t3kROqmVl5cXoqOjERkZiYCAAPj6+kIgEMBgMDAxVSwWC1FRUXjmmWcGRdJrFosFOzs7hISEQKvVIi0tDZWVlXBycmImWs1D6P6hoaEB+/fvR3JyMpOnNzExsa8xa8o+GRcaPp+P4OBgeHh4oLi4GBkZGZDJZLC0tISLi8sTu5w52NHpdCgrK0Nqaip++ukn1NXVITExES+//DJGjhz5wIeJz+dj6NChGD9+PIYMGQJ3d3c4OzvDzs4OOp0Ow4YNQ3x8vEnTVTwMdP6e4cOHg8Vi4cyZMygsLIS1tTVcXV37nCvGTO9otVrk5uYiJSUFBw8eRGBgINasWYPx48c/zDK88oFzLr2h0+lQWVmJ7du34/z58/Dz88NLL72EkSNHMtnuzTf38aHnGOhh0LVr1+Dp6YnFixdjypQpj+XS3dbWhmvXriEjIwM+Pj6YM2eOUVOaGgu9Xo+TJ0/iiy++gEQiwYoVKzBx4kQEBQXBysrKrId9hDYDIpEIeXl5+O6771BZWYmJEydi9erVCAoKehhHy75N6N4PlUqFs2fP4r///S9qamowffp0LFq0CIGBgXB1dTUbmUeEoii0tbWhvr4eJ06cwPHjxwEA8+bNw8KFCxEYGNhv7UqvCAEwau4PY0IIQX19Pf7+97/jzJkzGDduHF588UWEhobCw8Oj2wSymZ6Q39J01NXV4dChQ0hJSYGLiws2bNiAqVOnPkqC/sc3LrRgMpkMO3bswO7du6FWq7FgwQIsW7YMnp6eTMmP3+Py3cNAO7PJZDK0tLRg//79SElJgUqlwvTp07Fq1apuwW5mukOrcUpKCrZs2QKRSIQZM2bgxRdfRFBQEBwdHXuUmv09Q/sWyeVySCQSpKamYuvWrWhvb8fixYvxhz/8Ae7u7o/aXv1jXLoK29HRgZ07d2LHjh1QKBSYNGkSXnjhBURHR4PP5zMJmcxvkTvQN5iu01xTU4ODBw/ixx9/hEwmw4IFC7B+/XqEhIQM2l6FKVAqldi1axe2b9+Ozs5OJCUlYenSpYiKioKDgwNjZH6Peki/xNRqNeOAuW/fPpSVlWHOnDnYtGkThgwZ8rhGuH+NS1c6Ojqwb98+7NmzByUlJQgPD8f8+fMxffp0BAUFMWUTfg83uGsMT9e/DQYD9Ho9pFIpzpw5g+TkZKSnp8PT0xMrVqzAK6+8Ai8vryc2oHAw0NHRgeTkZHz33XeoqKhAVFQUFi5ciMmTJzMrnw9bsnYw0fXRpo2KUqlESUkJ9u/fj59++gkymQzz5s3Dxo0b+7Q40NdLw1jGhYaiKFy8eBF79+7FiRMnIJFIEBERgalTp2L69OkYPnw4Uw+oaxTx0wTtuEanyDQYDGhubsaZM2dw5MgRpKWlQaPRIDExEWvWrMGsWbPMcwT9jFarRXp6Ovbs2YP09HQYDAaMGTMGzz33HCZPntxjCftpaHs65szS0hLW1tYoKSnB0aNHceTIEdy6dQteXl5Yvnw5Vq1a1cMzuz8uD2Mbl67IZDJcuXKFCXqqrKyEQCBAdHQ0nn32WSQkJCAmJqbHm3qw3ei7m/P8+fNMvNTly5dx7tw55OTkgMViIS4uDvPnz8e8efOeeAe2pwWRSISLFy/il19+QXp6OuRyOYYNG4apU6di2rRpGDduXK8hDE86d+udWCzG3//+d+Tm5qK9vR1VVVVMhce5c+di6tSpxiz3O7DGpetllEolCgsLkZGRwTxsUqkUrq6uGDt2LEaPHo0xY8YgJiYGDg4Og+Lm0igUCty+fRu5ubm4du0azp8/j6qqKlhaWkIoFCIhIQGJiYkYP358N7+SwfQ/DmZoPaQoCmKxGOnp6Thw4ABSU1Oh0Wjg4uKCcePGIS4uDvHx8Rg1atSgWNIuLy9HTk4OsrKycOXKFRQXF0Mul8PNzQ0zZ87ESy+9hNGjR3db+THi/zSwxqXblbskzaYoCvn5+diwYQNUKhWEQiFyc3NRX18PNpsNoVDI1BAODQ3F0KFDERwcDHt7e5PNRxBCoNFoUFlZiaKiIhQWFqKkpARFRUUoLy9nimKFhoaivr4eLS0tWL9+PT744AMmwvf3MN/0JEOrfXFxMTZv3oyKigp8/vnnyMjIQFZWFrKzs9Hc3AwbGxuEh4cjMjISYWFhCA0NZZa4B3rljvxWy6ukpAS3b9/GrVu3cOvWLeTn50MsFoPL5SI8PByjR4+GUChESkoKrl+/jo0bN+LDDz8En88fKJ3rW2yRMeg6vlWr1aisrIRYLMZnn32GpKQkJnt6bm4uCgoKUF5ejuPHj+Prr7+GTqeDhYUFHBwc4OHhAU9PT2ZzcXGBo6MjkzPU0dER9vb2sLGxYWKg6NIpXUP4aSOnVCqZYmJSqRQSiQRSqRQdHR1oampCY2MjRCIRGhoaIBaLmfkUX19fhISEICEhAa+99hpGjBgBf39/iMVivP/++zhy5AgT39O1gLgZ00Hf/8rKSly7dg1//OMfER0djaioKKxfvx4GgwGVlZXIzs7GrVu3UFpaitOnTzP1eeh4LB8fH/j4+MDLywtubm4QCATM5ujoCFtbW6a3wOFwwOPxeugencuG1rmOjg5IJBK0t7dDLBajoaEBdXV1qK+vR3NzM5OaIiQkBMOGDcNrr72GkSNHYvjw4bC3tweHw0FGRgbz8r169SoyMjIwb968AW1jk/vrNzQ0IDMzE35+fkhKSgKPxwMhBHZ2dvDz88OMGTOg1+uZ5dra2lrU1tZCJBKhpaUFLS0tqK+vR15eHiQSCWQyGTQaDdM7oHsId6ccpOkawNe1N0WnNOTxeODz+XBycoKbmxsiIiIwadIkeHh4wM/PD8HBwbCxsQGXywWHwwGXy2WK1efl5UEqlcLCwgLXrl3D8ePHu5WtNWNampqakJ2dDTs7O8ydO5dJ70CX6YiIiEBISAh0Oh2zNTc3o7KyEvX19RCLxRCLxWhsbMTNmzfR3t4OuVzOlHmlda/r/b6f7tF5b1gsFqytrcHn8yEQCODh4YHw8HBMmjQJnp6eCAoKYlZd6UL2lpaWzEIAi8VCbW0tJBIJKIrC1atXcfLkSTz77LMDWrnS5MalubkZJSUlGDduHFM3iM6hYWNj062kLCEEnp6eGDlyJHQ6HWN06Fy8er0eBoMBGo0GnZ2dkMlkUCgUUCqVTNqArsXeOBwOE4fCZrNhbW0NW1tb8Hg82Nvbw9bWlskvS+ccoW8mfUPpYU5v3c3S0lKmzCVd/ygvL8+cruIJQSQSobi4GCNGjOhRVeBe6T/p1KxdDQ690e4FKpWK6f1qNBom8x6dWQ/ornuWlpawsrKCnZ0d+Hw+7OzsYG1tzehdV53jcrmwsrJihmT3GubQukdn+bt58ybOnDmDRYsW9Xcz3hOTGheNRsPMScTFxT1wPEgnJLpfmgf6LdDV2NDZzgB0+71rlrW7kyxzOJzHdvgrKSlBY2MjM3wqKCjA4cOH+9OfwMwjQghBU1MTamtrsWbNmj73Jh+Ub5jugdytf/Q++veuukf3crq+xB6nd6vX61FbW8ukLaUoCrdv38bx48cxefLkAeu9mNS4SKVS1NbWgsPhYMSIEf1yTroXQfcqTIVEIkFDQ0O3bPXNzc24cuUKSkpKzPlHTIxCoYBIJILBYEBERES/nbdr9n1T5TpqbGxEW1tbt8T2CoUC+fn5OHv2LJ577rkBkcOkg//Ozk6IxWIIBIJBkUvkYaiqqkJbW1u37G86nQ6lpaU4cuSICSUzA9x5sYlEItjY2Bi1nrIpKC8v71GChRCCqqoqHDp0CBKJZEDkMKlxoYtuu7q6PnUBeSUlJUxB+K6IxWKkpaWhvr7eRJKZAe44dUokEmbS9GmivLycqXHdFalUihs3buDChQsDIodJjYtWq4VWq32sOjBPKoWFhWhvb+/xuVqtZpY1zZgOrVYLnU4HW1vbpy7JWUlJSa+9E0IIGhsbsX///gEpLmdS40JPrD5tS7MGgwElJSVobW3ttbxHa2srfvnlF8ZnwszAQ0+8Pm2BoQaDAeXl5ZBIJL3qXkdHB65cuYKrV68aXRaTPtV0yQitVmtKMfqd9vZ2NDY23rMMLj25dv78+QGWzAwNvUKj0+n6VN9psCCRSNDU1HTPcjAsFgttbW3Ys2eP0co005jUuNB+LK2trQ+srzOYKCwsfGCpTqlUij179nSrGWxm4ODxeODxeJBIJE/VPSgtLWUqPPQGnXcpLS0NeXl5RpXFpMaF9nxtbm6+b4MMNgoKCqBUKu/ryyKXy3Hp0iXk5uYOoGRmaOgqkwqFAo2NjaYWp98oKiqCSqW6d4nV35bK1Wo19u7da9Rem0mNi0AgQEBAAGQyGW7evGlKUfoNQgjjCn73jbOwsGA8Me3t7UFRFPbs2WMiSX/fODo6IiAggMl0/7RQWFgIuVzOeJzb2NgwXr58Pp8JYXnmmWfg6upq1CkJk06T29nZQSgUQiAQ4OzZs4iPjx/0nquEEJSWlkKlUoHL5TJje0tLS/j4+GDkyJFMoJuXl9egzLj/NMDhcODt7Q1fX19cvHgRCxcuHPS6B9yJ1fP09ER0dDQCAwPBZrNx7do1+Pn5YfPmzfD39x+w1TGTr8F5eXkhIiICp06dwltvvTXol6XVajXefvttWFtbw9vbG+7u7vj222+RmpqKF198EStWrDC1iGZ+w9fXFxERETh69Cjq6uqeCkOfnJzM/E4IwbZt21BaWopx48ZBKBQOqCwmXwMODAzEvHnz0Nrail27dplanMfGxsYGs2bNQlJSEkJDQ1FeXo7Lly/D19cXU6ZMMbV4Zrrg4+ODqVOnwsLCAtu2bTO1OP1OWVkZzp07B2dnZ5PonsmNC4fDwdChQzFz5kxs3boVFRUVphbpsaBjm1gsFhQKBZKTkyGRSDB16lRzwfQnDBaLheDgYCxYsAA//PADrly5YmqR+g2dTofdu3ejoaEBSUlJJollM7lxYbFY8Pb2xquvvgo+n4/XXnvtqVgapCgK27ZtQ2ZmJiZPnoyZM2c+FWP6pwkWiwUPDw8sWbIEYWFh+MMf/vDUODZ+9913SE1NxcSJEzF79myT6J7JjQtwZxVFKBRi8+bNKCgowLp16wa9Y923336L77//HomJiViyZAl4PJ6pRTLTCywWC/7+/nj//ffR2tqKFStWDIhrvDE5ePAgtm7dijFjxmDx4sU9ctUMGOQJgaIoIpVKyb59+4inpydZs2YNUSqVhKIoU4v2UOh0OvLll1+SyMhIsm7dOnLjxg2i0+lMLZaZ+0BRFJHL5eTIkSMkICCALFq0iLS1tQ063SOEkB9++IGMGDGCLF++nGRlZRGtVmsKMShCiPiJMS6EEGIwGEh7ezvZuXMn8fPzI8899xypqKgYNDe5paWFbNq0iYSFhZE333yT5ObmErVabWqxzPQBg8FApFIpSUlJISEhIWTKlCnk5s2bg0b3ZDIZ+cc//kEiIiLIqlWrSFZWFlGpVKYShyKEiE2S/f9+UBSFjo4OpKam4rPPPoO9vT1Wr16NuXPnMom1nzQoikJ6ejp27NiBsrIyLFiwAPPnz0dwcLAxa8OY6WcoioJMJkNmZiY+/fRT6HQ6rFixAkuXLoW9vf0TqXsAkJWVhW3btuHGjRuYMWMGFi1ahNDQ0G4pYgcY05UWeRCEECgUCmRmZmLv3r2oqanBqFGjMH/+fMTGxsLW1tbkN5putuvXr+PQoUPIzMwEn8/HggULMGnSJHh5eZnrOw9CyG9lY65cuYIffvgBBQUFiIiIwIIFCzB+/HjY29s/EVH8hBAUFRXh0KFDSEtLA5vNxvz58zF58mT4+/ubOj/Sk2tcgP8Pib969SrOnj2LzMxMcDgchIeHIyYmBqNHj4aXl9eApxIkhEAikeDGjRvIzs5GdnY2ZDIZRo0ahUmTJiEuLg52dnZPhAKaeTToR4JOC5mWlgaKojBs2DCMGTMGo0ePhp+f34D3SgkhkMlkKCgoQHZ2NrKystDa2oqwsDBMnjwZzzzzDBwcHJ4E3XuyjUtXpFIp0tLScOnSJZSWlgIA/P39ERwcjKCgIAQEBMDb2xsODg793lugKAoqlQoNDQ2oqalBdXU1KisrUVxcDKVSCT8/P0yYMAFJSUnw8PB4Em6smX5EpVIhPT0dFy9exO3bt2EwGODj44Pg4GAIhUJG9wQCQb/3FgghUKvVaGxs7KZ7JSUlkMlkcHNzw4QJEzBp0iT4+/s/SblpBo9xoeno6EBWVhYuXLiA4uJiKBQKpjiVr68vvLy8mMJodGkQulQIHbxFJ+8mhPQoS0KXfpDJZMwmlUrR3NyMiooKiEQiJpVCQEAA4uPjMXHiRHh5eZl8mGbGuCgUCmRnZyMzMxOFhYWQSCSwsbGBu7s7vL294e3tDVdXV0b3eDweo3t0SRAWi8X81Gq1THUAWg/v1r3Ozk60tLQwdZIkEgkMBgP8/PwQFxeHxMREBAUFPYm6N/iMC43BYEBVVRVu3ryJ3NxclJSUoLm5GXq9HnZ2dnBycoKDgwNT0MzV1RVWVlawtbVlCp2R30pjqlQqpuKdSqWCRCKBRCJh6s7IZDJotVoIBAKEhIRgxIgRGD58OMLDw02W3d2M6SCEoK6uDjdv3sT169dRVFSEpqYmJmVmV91zcHCAi4sLbGxsGN2jaxUplUpoNBpoNBpG9+iKi52dnd3qHjk6OiIoKIjRvaioKFNO1vaFwWtc7kYul6O+vh5lZWUoLy9HdXU1RCIRWltbGeNAURRTs4iuHUNnwqNrxlhYWMDW1hYuLi7w9vaGj48PfH19ERgYiGHDhpnOGcnMEws9ZC4vL0dZWRmqqqrQ2NiI1tZWSKXSh9I9KysruLq6MiVivb29ERAQgCFDhsDT09PE/+lD8fQYl3tB138WiUTQaDSQyWTMciOLxWK6rnSlRVtbW/D5fPPysZnHhp6ra2pqgkqlgkKhgF6vh0KhAEVRsLe3h7W1NaytrRk95PP5sLKyehKHOQ/L029czJgxYxIIgBbz0oYZM2aMgtm4mDFjxiiYjYsZM2aMwv8BzRs2zBNkb84AAAAASUVORK5CYII=\" y=\"-6.584906\"/>\n   </g>\n  </g>\n </g>\n <defs>\n  <clipPath id=\"pdb5580c372\">\n   <rect height=\"87.384906\" width=\"279\" x=\"7.2\" y=\"7.2\"/>\n  </clipPath>\n </defs>\n</svg>\n",
      "image/png": "[encoded data removed]"
     },
     "metadata": {
      "needs_background": "light"
     }
    }
   ],
   "source": [
    "show_model(model, figsize=(5, 5), filename=\"example.png\", overwrite=True, show_ends=False)"
   ]
  },
  {
   "cell_type": "markdown",
   "metadata": {},
   "source": [
    "### Checking the Model\n",
    "The states of the model can be accessed using array syntax on the `HMM.states` attribute, and the transition matrix can be accessed by calling `HMM.dense_transition_matrix()`. Element $(i, j)$ encodes the probability of transitioning from state $i$ to state $j$. For example, with the default column order specified, element $(2, 1)$ gives the probability of transitioning from \"Rainy\" to \"Sunny\", which we specified as 0.4.\n",
    "\n",
    "Run the next cell to inspect the full state transition matrix, then read the . "
   ]
  },
  {
   "cell_type": "code",
   "execution_count": 8,
   "metadata": {
    "tags": []
   },
   "outputs": [
    {
     "output_type": "stream",
     "name": "stdout",
     "text": "The state transition matrix, P(Xt|Xt-1):\n\n[[0.  0.5 0.5 0. ]\n [0.  0.8 0.2 0. ]\n [0.  0.4 0.6 0. ]\n [0.  0.  0.  0. ]]\n\nThe transition probability from Rainy to Sunny is 40%\n"
    }
   ],
   "source": [
    "column_order = [\"Example Model-start\", \"Sunny\", \"Rainy\", \"Example Model-end\"]  # Override the Pomegranate default order\n",
    "column_names = [s.name for s in model.states]\n",
    "order_index = [column_names.index(c) for c in column_order]\n",
    "\n",
    "# re-order the rows/columns to match the specified column order\n",
    "transitions = model.dense_transition_matrix()[:, order_index][order_index, :]\n",
    "print(\"The state transition matrix, P(Xt|Xt-1):\\n\")\n",
    "print(transitions)\n",
    "print(\"\\nThe transition probability from Rainy to Sunny is {:.0f}%\".format(100 * transitions[2, 1]))"
   ]
  },
  {
   "cell_type": "markdown",
   "metadata": {},
   "source": [
    "## Inference in Hidden Markov Models\n",
    "---\n",
    "Before moving on, we'll use this simple network to quickly go over the Pomegranate API to perform the three most common HMM tasks:\n",
    "\n",
    "<div class=\"alert alert-block alert-info\">\n",
    "**Likelihood Evaluation**<br>\n",
    "Given a model $\\lambda=(A,B)$ and a set of observations $Y$, determine $P(Y|\\lambda)$, the likelihood of observing that sequence from the model\n",
    "</div>\n",
    "\n",
    "We can use the weather prediction model to evaluate the likelihood of the sequence [yes, yes, yes, yes, yes] (or any other state sequence). The likelihood is often used in problems like machine translation to weight interpretations in conjunction with a statistical language model.\n",
    "\n",
    "<div class=\"alert alert-block alert-info\">\n",
    "**Hidden State Decoding**<br>\n",
    "Given a model $\\lambda=(A,B)$ and a set of observations $Y$, determine $Q$, the most likely sequence of hidden states in the model to produce the observations\n",
    "</div>\n",
    "\n",
    "We can use the weather prediction model to determine the most likely sequence of Rainy/Sunny states for a known observation sequence, like [yes, no] -> [Rainy, Sunny]. We will use decoding in the part of speech tagger to determine the tag for each word of a sentence. The decoding can be further split into \"smoothing\" when we want to calculate past states, \"filtering\" when we want to calculate the current state, or \"prediction\" if we want to calculate future states. \n",
    "\n",
    "<div class=\"alert alert-block alert-info\">\n",
    "**Parameter Learning**<br>\n",
    "Given a model topography (set of states and connections) and a set of observations $Y$, learn the transition probabilities $A$ and emission probabilities $B$ of the model, $\\lambda=(A,B)$\n",
    "</div>\n",
    "\n",
    "We don't need to learn the model parameters for the weather problem or POS tagging, but it is supported by Pomegranate.\n",
    "\n",
    "### IMPLEMENTATION: Calculate Sequence Likelihood\n",
    "\n",
    "Calculating the likelihood of an observation sequence from an HMM network is performed with the [forward algorithm](https://en.wikipedia.org/wiki/Forward_algorithm). Pomegranate provides the the `HMM.forward()` method to calculate the full matrix showing the likelihood of aligning each observation to each state in the HMM, and the `HMM.log_probability()` method to calculate the cumulative likelihood over all possible hidden state paths that the specified model generated the observation sequence.\n",
    "\n",
    "Fill in the code in the next section with a sample observation sequence and then use the `forward()` and `log_probability()` methods to evaluate the sequence."
   ]
  },
  {
   "cell_type": "code",
   "execution_count": 9,
   "metadata": {
    "tags": []
   },
   "outputs": [
    {
     "output_type": "stream",
     "name": "stdout",
     "text": "Rainy      Sunny      Example Model-start      Example Model-end   \n <start>      0%         0%               100%                     0%          \n   yes       40%         5%                0%                      0%          \n    no        5%        18%                0%                      0%          \n   yes        5%         2%                0%                      0%          \n\nThe likelihood over all possible paths of this model producing the sequence ['yes', 'no', 'yes'] is 6.92%\n\n\n"
    }
   ],
   "source": [
    "# TODO: input a sequence of 'yes'/'no' values in the list below for testing\n",
    "observations = ['yes', 'no', 'yes']\n",
    "\n",
    "assert len(observations) > 0, \"You need to choose a sequence of 'yes'/'no' observations to test\"\n",
    "\n",
    "# TODO: use model.forward() to calculate the forward matrix of the observed sequence,\n",
    "# and then use np.exp() to convert from log-likelihood to likelihood\n",
    "forward_matrix = np.exp(model.forward(observations))\n",
    "\n",
    "# TODO: use model.log_probability() to calculate the all-paths likelihood of the\n",
    "# observed sequence and then use np.exp() to convert log-likelihood to likelihood\n",
    "probability_percentage = np.exp(model.log_probability(observations))\n",
    "\n",
    "# Display the forward probabilities\n",
    "print(\"         \" + \"\".join(s.name.center(len(s.name)+6) for s in model.states))\n",
    "for i in range(len(observations) + 1):\n",
    "    print(\" <start> \" if i==0 else observations[i - 1].center(9), end=\"\")\n",
    "    print(\"\".join(\"{:.0f}%\".format(100 * forward_matrix[i, j]).center(len(s.name) + 6)\n",
    "                  for j, s in enumerate(model.states)))\n",
    "\n",
    "print(\"\\nThe likelihood over all possible paths \" + \\\n",
    "      \"of this model producing the sequence {} is {:.2f}%\\n\\n\"\n",
    "      .format(observations, 100 * probability_percentage))"
   ]
  },
  {
   "cell_type": "markdown",
   "metadata": {},
   "source": [
    "### IMPLEMENTATION: Decoding the Most Likely Hidden State Sequence\n",
    "\n",
    "The [Viterbi algorithm](https://en.wikipedia.org/wiki/Viterbi_algorithm) calculates the single path with the highest likelihood to produce a specific observation sequence. Pomegranate provides the `HMM.viterbi()` method to calculate both the hidden state sequence and the corresponding likelihood of the viterbi path.\n",
    "\n",
    "This is called \"decoding\" because we use the observation sequence to decode the corresponding hidden state sequence. In the part of speech tagging problem, the hidden states map to parts of speech and the observations map to sentences. Given a sentence, Viterbi decoding finds the most likely sequence of part of speech tags corresponding to the sentence.\n",
    "\n",
    "Fill in the code in the next section with the same sample observation sequence you used above, and then use the `model.viterbi()` method to calculate the likelihood and most likely state sequence. Compare the Viterbi likelihood against the forward algorithm likelihood for the observation sequence."
   ]
  },
  {
   "cell_type": "code",
   "execution_count": 10,
   "metadata": {
    "tags": []
   },
   "outputs": [
    {
     "output_type": "stream",
     "name": "stdout",
     "text": "The most likely weather sequence to have generated these observations is ['Rainy', 'Sunny', 'Rainy'] at 2.30%.\n"
    }
   ],
   "source": [
    "# TODO: input a sequence of 'yes'/'no' values in the list below for testing\n",
    "observations = ['yes', 'no', 'yes']\n",
    "\n",
    "# TODO: use model.viterbi to find the sequence likelihood & the most likely path\n",
    "viterbi_likelihood, viterbi_path = model.viterbi(observations)\n",
    "\n",
    "print(\"The most likely weather sequence to have generated \" + \\\n",
    "      \"these observations is {} at {:.2f}%.\"\n",
    "      .format([s[1].name for s in viterbi_path[1:]], np.exp(viterbi_likelihood)*100)\n",
    ")"
   ]
  },
  {
   "cell_type": "markdown",
   "metadata": {},
   "source": [
    "### Forward likelihood vs Viterbi likelihood\n",
    "Run the cells below to see the likelihood of each sequence of observations with length 3, and compare with the viterbi path."
   ]
  },
  {
   "cell_type": "code",
   "execution_count": 11,
   "metadata": {
    "tags": []
   },
   "outputs": [
    {
     "output_type": "stream",
     "name": "stdout",
     "text": "The likelihood of observing ['no', 'no', 'yes'] if the weather sequence is...\n\t('Sunny', 'Sunny', 'Sunny') is 2.59% \n\t('Sunny', 'Sunny', 'Rainy') is 5.18%  <-- Viterbi path\n\t('Sunny', 'Rainy', 'Sunny') is 0.07% \n\t('Sunny', 'Rainy', 'Rainy') is 0.86% \n\t('Rainy', 'Sunny', 'Sunny') is 0.29% \n\t('Rainy', 'Sunny', 'Rainy') is 0.58% \n\t('Rainy', 'Rainy', 'Sunny') is 0.05% \n\t('Rainy', 'Rainy', 'Rainy') is 0.58% \n\nThe total likelihood of observing ['no', 'no', 'yes'] over all possible paths is 10.20%\n"
    }
   ],
   "source": [
    "from itertools import product\n",
    "\n",
    "observations = ['no', 'no', 'yes']\n",
    "\n",
    "p = {'Sunny': {'Sunny': np.log(.8), 'Rainy': np.log(.2)}, 'Rainy': {'Sunny': np.log(.4), 'Rainy': np.log(.6)}}\n",
    "e = {'Sunny': {'yes': np.log(.1), 'no': np.log(.9)}, 'Rainy':{'yes':np.log(.8), 'no':np.log(.2)}}\n",
    "o = observations\n",
    "k = []\n",
    "vprob = np.exp(model.viterbi(o)[0])\n",
    "print(\"The likelihood of observing {} if the weather sequence is...\".format(o))\n",
    "for s in product(*[['Sunny', 'Rainy']]*3):\n",
    "    k.append(np.exp(np.log(.5)+e[s[0]][o[0]] + p[s[0]][s[1]] + e[s[1]][o[1]] + p[s[1]][s[2]] + e[s[2]][o[2]]))\n",
    "    print(\"\\t{} is {:.2f}% {}\".format(s, 100 * k[-1], \" <-- Viterbi path\" if k[-1] == vprob else \"\"))\n",
    "print(\"\\nThe total likelihood of observing {} over all possible paths is {:.2f}%\".format(o, 100*sum(k)))"
   ]
  },
  {
   "cell_type": "markdown",
   "metadata": {},
   "source": [
    "### Congratulations!\n",
    "You've now finished the HMM warmup. You should have all the tools you need to complete the part of speech tagger project."
   ]
  },
  {
   "cell_type": "code",
   "execution_count": null,
   "metadata": {},
   "outputs": [],
   "source": []
  }
 ],
 "metadata": {
  "kernelspec": {
   "display_name": "Python 3.8.3 64-bit",
   "language": "python",
   "name": "python_defaultSpec_1594327539805"
  },
  "language_info": {
   "codemirror_mode": {
    "name": "ipython",
    "version": 3
   },
   "file_extension": ".py",
   "mimetype": "text/x-python",
   "name": "python",
   "nbconvert_exporter": "python",
   "pygments_lexer": "ipython3",
   "version": "3.8.3-final"
  }
 },
 "nbformat": 4,
 "nbformat_minor": 2
}